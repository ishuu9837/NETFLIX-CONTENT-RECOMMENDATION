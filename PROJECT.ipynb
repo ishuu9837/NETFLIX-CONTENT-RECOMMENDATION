{
  "nbformat": 4,
  "nbformat_minor": 0,
  "metadata": {
    "colab": {
      "provenance": [],
      "authorship_tag": "ABX9TyNX8NV7Fd1GT9HVWuujHYX9",
      "include_colab_link": true
    },
    "kernelspec": {
      "name": "python3",
      "display_name": "Python 3"
    },
    "language_info": {
      "name": "python"
    }
  },
  "cells": [
    {
      "cell_type": "markdown",
      "metadata": {
        "id": "view-in-github",
        "colab_type": "text"
      },
      "source": [
        "<a href=\"https://colab.research.google.com/github/ishuu9837/NETFLIX-CONTENT-RECOMMENDATION/blob/main/PROJECT.ipynb\" target=\"_parent\"><img src=\"https://colab.research.google.com/assets/colab-badge.svg\" alt=\"Open In Colab\"/></a>"
      ]
    },
    {
      "cell_type": "code",
      "execution_count": 10,
      "metadata": {
        "id": "suAxeZmoB8Lv"
      },
      "outputs": [],
      "source": [
        "# Import necessary libraries\n",
        "import pandas as pd\n",
        "from sklearn.feature_extraction.text import TfidfVectorizer\n",
        "from sklearn.metrics.pairwise import cosine_similarity"
      ]
    },
    {
      "cell_type": "code",
      "source": [
        "# Step 1: Load the dataset\n",
        "df = pd.read_csv('/content/netflix_titles.csv')  # Update with the correct file path"
      ],
      "metadata": {
        "id": "hEJjHokmE8x9"
      },
      "execution_count": 11,
      "outputs": []
    },
    {
      "cell_type": "code",
      "source": [
        "# Step 2: Data Preprocessing\n",
        "# Fill missing values with empty strings\n",
        "df['director'] = df['director'].fillna('')\n",
        "df['cast'] = df['cast'].fillna('')\n",
        "df['listed_in'] = df['listed_in'].fillna('')\n",
        "\n",
        "# Combine 'director', 'cast', and 'listed_in' into a single 'metadata' column for content-based filtering\n",
        "df['metadata'] = df['director'] + ' ' + df['cast'] + ' ' + df['listed_in']"
      ],
      "metadata": {
        "id": "0gzELfUCFhOo"
      },
      "execution_count": 12,
      "outputs": []
    },
    {
      "cell_type": "code",
      "source": [
        "# Step 3: Text Vectorization\n",
        "# Use TF-IDF to convert the 'metadata' column into a matrix of numerical values\n",
        "tfidf = TfidfVectorizer(stop_words='english')  # Remove common English stop words\n",
        "tfidf_matrix = tfidf.fit_transform(df['metadata'])  # Fit and transform the metadata"
      ],
      "metadata": {
        "id": "do_xUA2WF1V-"
      },
      "execution_count": 13,
      "outputs": []
    },
    {
      "cell_type": "code",
      "source": [
        "# Step 4: Compute Cosine Similarity\n",
        "# Compute cosine similarity between all titles\n",
        "cosine_sim = cosine_similarity(tfidf_matrix, tfidf_matrix)"
      ],
      "metadata": {
        "id": "UOccwJ3bF5yn"
      },
      "execution_count": 14,
      "outputs": []
    },
    {
      "cell_type": "code",
      "source": [
        "# Step 5: Create a reverse mapping of title to index\n",
        "indices = pd.Series(df.index, index=df['title']).drop_duplicates()"
      ],
      "metadata": {
        "id": "Cf9dnlsWF9-W"
      },
      "execution_count": 15,
      "outputs": []
    },
    {
      "cell_type": "code",
      "source": [
        "# Step 6: Define the recommendation function\n",
        "def get_recommendations(title, cosine_sim=cosine_sim):\n",
        "    # Get the index of the title that matches the input title\n",
        "    idx = indices[title]\n",
        "\n",
        "    # Get the pairwise similarity scores of all titles with that title\n",
        "    sim_scores = list(enumerate(cosine_sim[idx]))\n",
        "\n",
        "    # Sort the titles based on similarity scores\n",
        "    sim_scores = sorted(sim_scores, key=lambda x: x[1], reverse=True)\n",
        "\n",
        "    # Get the scores of the 10 most similar titles\n",
        "    sim_scores = sim_scores[1:11]\n",
        "\n",
        "    # Get the title indices of the 10 most similar titles\n",
        "    title_indices = [i[0] for i in sim_scores]\n",
        "\n",
        "    # Return the top 10 most similar titles\n",
        "    return df['title'].iloc[title_indices]"
      ],
      "metadata": {
        "id": "sMMh17TqGDDE"
      },
      "execution_count": 16,
      "outputs": []
    },
    {
      "cell_type": "code",
      "source": [
        "# Step 7: Test the recommendation system with an example\n",
        "print(get_recommendations('Kota Factory'))  # Replace with any title from your dataset\n"
      ],
      "metadata": {
        "id": "EvTfE2yIGGMZ",
        "outputId": "ba9530b9-2616-499c-8f84-fffeb5ebaff3",
        "colab": {
          "base_uri": "https://localhost:8080/"
        }
      },
      "execution_count": 17,
      "outputs": [
        {
          "output_type": "stream",
          "name": "stdout",
          "text": [
            "1038                         Dancing Angels\n",
            "2982                          Find Yourself\n",
            "7438       Melodies of Life - Born This Way\n",
            "242                   Comedy Premium League\n",
            "751                          Guru Aur Bhole\n",
            "1535                  How To Ruin Christmas\n",
            "1331    Five Came Back: The Reference Films\n",
            "4250      Pioneers: First Women Filmmakers*\n",
            "8173                              Thackeray\n",
            "1093                            The Big Day\n",
            "Name: title, dtype: object\n"
          ]
        }
      ]
    }
  ]
}